{
 "cells": [
  {
   "cell_type": "code",
   "execution_count": 1,
   "metadata": {},
   "outputs": [
    {
     "name": "stderr",
     "output_type": "stream",
     "text": [
      "testCari (__main__.TestCatalogItem) ... ok\n",
      "testHapus (__main__.TestCatalogItem) ... ok\n",
      "testTambah (__main__.TestCatalogItem) ... ok\n",
      "testTotal (__main__.TestCatalogItem) ... ok\n",
      "\n",
      "----------------------------------------------------------------------\n",
      "Ran 4 tests in 0.003s\n",
      "\n",
      "OK\n"
     ]
    }
   ],
   "source": [
    "'''\n",
    "=================================================\n",
    "Non Graded Challenge 04\n",
    "\n",
    "Nama  : Diko Alfatha Ikhram\n",
    "Batch : RMT-29\n",
    "\n",
    "Program ini dibuat untuk melakukan unit test pada class CatalogItem\n",
    "=================================================\n",
    "'''\n",
    "\n",
    "# import library\n",
    "import unittest\n",
    "import h8dsft_oop as catalog\n",
    "\n",
    "# membuat unittest untuk test class ShoppingCart\n",
    "class TestCatalogItem(unittest.TestCase):\n",
    "\n",
    "    #Scenario 1: Berhasil menambahkan buku ke CatalogItem\n",
    "    def testTambah(self):\n",
    "\n",
    "        catalogClass = catalog.CatalogItem()\n",
    "\n",
    "        result = catalogClass.addItem(\"game\", \"diko\")\n",
    "\n",
    "        self.assertEqual(result, \"Buku berhasil disimpan\")\n",
    "\n",
    "    #Scenario 2: Cari buku pada CatalogItem\n",
    "    def testCari(self):\n",
    "\n",
    "        catalogClass = catalog.CatalogItem()\n",
    "\n",
    "        catalogClass.addItem(\"game\", \"diko\")\n",
    "\n",
    "        result = catalogClass.searchItem(\"game\",\"\")\n",
    "\n",
    "        self.assertEqual(result, result)\n",
    "\n",
    "    #Scenario 2: Menghapus barang di ShoppingCart jika barang tidak ada\n",
    "    def testHapus(self):\n",
    "\n",
    "        catalogClass = catalog.CatalogItem()\n",
    "\n",
    "        catalogClass.addItem(\"game\", \"diko\")\n",
    "\n",
    "        result = catalogClass.removeItem(\"key0\")\n",
    "\n",
    "        self.assertEqual(result, result)\n",
    "\n",
    "    #Scenario 3: Menampilkan perhitungan total barang jika tidak ada barang yang dibeli\n",
    "    def testTotal(self):\n",
    "\n",
    "        catalogClass = catalog.CatalogItem()\n",
    "\n",
    "        catalogClass.addItem(\"game\", \"diko\")\n",
    "\n",
    "        result = catalogClass.showItems()\n",
    "\n",
    "        self.assertEqual(result, result)\n",
    "        \n",
    "if __name__ == '__main__':\n",
    "    unittest.main(argv=[''], verbosity=2, exit=False)"
   ]
  }
 ],
 "metadata": {
  "kernelspec": {
   "display_name": "pyth39",
   "language": "python",
   "name": "python3"
  },
  "language_info": {
   "codemirror_mode": {
    "name": "ipython",
    "version": 3
   },
   "file_extension": ".py",
   "mimetype": "text/x-python",
   "name": "python",
   "nbconvert_exporter": "python",
   "pygments_lexer": "ipython3",
   "version": "3.9.18"
  }
 },
 "nbformat": 4,
 "nbformat_minor": 2
}
